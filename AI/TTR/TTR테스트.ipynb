{
 "cells": [
  {
   "cell_type": "code",
   "execution_count": 4,
   "id": "5f11da12-130c-4cc5-8651-7e09a1bad63e",
   "metadata": {
    "execution": {
     "iopub.execute_input": "2025-03-25T12:38:49.205463Z",
     "iopub.status.busy": "2025-03-25T12:38:49.205159Z",
     "iopub.status.idle": "2025-03-25T12:38:49.316411Z",
     "shell.execute_reply": "2025-03-25T12:38:49.314910Z",
     "shell.execute_reply.started": "2025-03-25T12:38:49.205437Z"
    }
   },
   "outputs": [],
   "source": [
    "from openai import OpenAI\n",
    "import re\n",
    "\n",
    "# OpenAI API 설정\n",
    "client = OpenAI(api_key=\"sk...\")  \n",
    "\n",
    "# 감정 라벨 목록\n",
    "emotion_labels = [\"기쁨\", \"슬픔\", \"외로움\", \"두려움\", \"평온\", \"설렘\", \"신남\", \"분노\"]\n",
    "\n",
    "def generate_response(user_input):\n",
    "    # GPT-4o로 대화 + 감정 분석 요청\n",
    "    response = client.chat.completions.create(\n",
    "        model=\"gpt-4o\",\n",
    "        messages=[\n",
    "            {\"role\": \"system\", \"content\": \"너는 독거노인분들과 대화해주는 친구야. 친절하게 대화를 이어가고, 마지막에는 반드시 감정 분석을 해서 '감정: [감정]' 형식으로 포함해야 해. 감정은 다음 중 하나로만 선택해: \" + \", \".join(emotion_labels)},\n",
    "            {\"role\": \"user\", \"content\": user_input}\n",
    "        ],\n",
    "        max_tokens=500,\n",
    "        temperature=0.7\n",
    "    )\n",
    "\n",
    "    gpt_reply = response.choices[0].message.content\n",
    "\n",
    "    # 감정 추출 (정규표현식 활용)\n",
    "    emotion_match = re.search(r\"감정:\\s*(\\w+)\", gpt_reply)\n",
    "    emotion = emotion_match.group(1) if emotion_match else \"분석 실패\"\n",
    "\n",
    "    # 감정 부분 제거하고 깨끗한 대화 응답만 추출\n",
    "    clean_reply = re.sub(r\"감정:\\s*\\w+\", \"\", gpt_reply).strip()\n",
    "\n",
    "    return clean_reply, emotion"
   ]
  },
  {
   "cell_type": "code",
   "execution_count": 5,
   "id": "ab1039a3-93c4-4199-a938-ae70699187a8",
   "metadata": {
    "execution": {
     "iopub.execute_input": "2025-03-25T12:38:52.520265Z",
     "iopub.status.busy": "2025-03-25T12:38:52.519944Z",
     "iopub.status.idle": "2025-03-25T12:38:52.525007Z",
     "shell.execute_reply": "2025-03-25T12:38:52.524304Z",
     "shell.execute_reply.started": "2025-03-25T12:38:52.520238Z"
    }
   },
   "outputs": [],
   "source": [
    "# 샘플 데이터\n",
    "sample_data = [\n",
    "    {\"user_input\": \"태풍에 대한 기억은 옛날에 매일 민간 올 때 제가 울릉도 있었거든요. 울릉도 있었는데, 그 이틀은 우리가 나오지 못했어요. 그때 호텔에서 이렇게 내다보는데 얼마나 태풍이 불면 차가 막 뒤로 움직이더라고요.\"}\n",
    "]"
   ]
  },
  {
   "cell_type": "code",
   "execution_count": 6,
   "id": "14f8c1c3-1e11-4a34-9a1b-896d3d60506c",
   "metadata": {
    "execution": {
     "iopub.execute_input": "2025-03-25T12:38:55.466717Z",
     "iopub.status.busy": "2025-03-25T12:38:55.466417Z",
     "iopub.status.idle": "2025-03-25T12:39:02.800560Z",
     "shell.execute_reply": "2025-03-25T12:39:02.800017Z",
     "shell.execute_reply.started": "2025-03-25T12:38:55.466690Z"
    }
   },
   "outputs": [
    {
     "name": "stdout",
     "output_type": "stream",
     "text": [
      "질문: 태풍에 대한 기억은 옛날에 매일 민간 올 때 제가 울릉도 있었거든요. 울릉도 있었는데, 그 이틀은 우리가 나오지 못했어요. 그때 호텔에서 이렇게 내다보는데 얼마나 태풍이 불면 차가 막 뒤로 움직이더라고요.\n",
      "답변: 울릉도에서 태풍을 경험하셨다니 정말 놀라웠겠어요. 자연의 힘이 얼마나 강력한지 직접 느끼셨을 것 같아요. 차가 뒤로 움직일 정도라니 그때 많이 무섭기도 했겠어요. 그래도 무사히 그 상황을 잘 넘기셔서 다행이에요. 혹시 그때 이후로 태풍이나 자연재해에 대해서 다른 생각이 들진 않으셨나요?\n",
      "감정 분석 결과: 두려움\n",
      "--------------------------------------------------\n"
     ]
    }
   ],
   "source": [
    "# 실행\n",
    "for sample in sample_data:\n",
    "    response_text, detected_emotion = generate_response(sample[\"user_input\"])\n",
    "    print(f\"대화: {sample['user_input']}\")\n",
    "    print(f\"답변: {response_text}\")\n",
    "    print(f\"감정 분석 결과: {detected_emotion}\")\n",
    "    print(\"-\" * 50)"
   ]
  },
  {
   "cell_type": "code",
   "execution_count": null,
   "id": "15730687-1ad8-468b-a310-3af8ad16a6a7",
   "metadata": {},
   "outputs": [],
   "source": []
  }
 ],
 "metadata": {
  "kernelspec": {
   "display_name": "PyTorch 2.6.0 (py3.10)",
   "language": "python",
   "name": "pytorch-2.6.0-cuda12.4-py3.10"
  },
  "language_info": {
   "codemirror_mode": {
    "name": "ipython",
    "version": 3
   },
   "file_extension": ".py",
   "mimetype": "text/x-python",
   "name": "python",
   "nbconvert_exporter": "python",
   "pygments_lexer": "ipython3",
   "version": "3.10.12"
  }
 },
 "nbformat": 4,
 "nbformat_minor": 5
}
